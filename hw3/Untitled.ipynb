{
 "cells": [
  {
   "cell_type": "code",
   "execution_count": 45,
   "metadata": {},
   "outputs": [
    {
     "name": "stdout",
     "output_type": "stream",
     "text": [
      "(1036, 5)\n"
     ]
    }
   ],
   "source": [
    "import numpy as np\n",
    "import csv\n",
    "import matplotlib.pylab as plt\n",
    "\n",
    "def read_file(filename):\n",
    "    data = []\n",
    "    with open('hw3-data/%s' % filename) as file:\n",
    "        content = csv.reader(file)\n",
    "        for c in content:\n",
    "            data.append(c)\n",
    "    return np.matrix(data).astype(np.float32)\n",
    "X_train = read_file('boosting/X_train.csv')\n",
    "X_test = read_file('boosting/X_test.csv')\n",
    "y_train = read_file('boosting/y_train.csv')\n",
    "y_test = read_file('boosting/y_test.csv')\n",
    "assert np.shape(X_train) == (1036, 5)\n",
    "assert np.shape(X_test) == (1000, 5)\n",
    "assert np.shape(y_train) == (1036, 1)\n",
    "assert np.shape(y_test) == (1000, 1)\n",
    "print(np.shape(X_train))"
   ]
  },
  {
   "cell_type": "code",
   "execution_count": 46,
   "metadata": {},
   "outputs": [
    {
     "name": "stdout",
     "output_type": "stream",
     "text": [
      "(1036, 5)\n",
      "(1036, 6)\n"
     ]
    }
   ],
   "source": [
    "\n",
    "n_train = len(X_train)\n",
    "sample_weights = np.repeat(1 / n_train, n_train).reshape(-1, 1)\n",
    "\n",
    "sample_weights = 1/n_train * np.ones((n_train,1))\n",
    "Xtrain = X_train\n",
    "Xtest = X_test\n",
    "ytrain = y_train\n",
    "ytest = y_test\n",
    "\n",
    "        # record running totals for the final prediction:\n",
    "total_pred_train_mag = 0\n",
    "total_pred_test_mag = 0\n",
    "\n",
    "        # recording for charts later\n",
    "train_errors = []\n",
    "test_errors = []\n",
    "boost_eps = []\n",
    "boost_alphas = []\n",
    "num_sample_occurences = np.zeros(n_train)\n",
    "eps_upperbound_running_total = 0\n",
    "eps_upper_bound = []\n",
    "\n",
    "\n",
    "print(np.shape(X_train))\n",
    "X_train = np.column_stack((np.ones(X_train.shape[0]), X_train))\n",
    "X_test = np.column_stack((np.ones(X_test.shape[0]), X_test))\n",
    "print(np.shape(X_train))\n",
    "T = 1500\n",
    "n_train = X_train.shape[0]\n"
   ]
  },
  {
   "cell_type": "code",
   "execution_count": 59,
   "metadata": {},
   "outputs": [
    {
     "name": "stdout",
     "output_type": "stream",
     "text": [
      "0.000965250965251\n"
     ]
    }
   ],
   "source": [
    "print(sample_weights)"
   ]
  },
  {
   "cell_type": "code",
   "execution_count": 48,
   "metadata": {},
   "outputs": [],
   "source": [
    "for i in range(len(sample_weights)):\n",
    "    \n",
    "\n",
    "\n",
    "bt_sample_ind = np.random.choice(\n",
    "        n_train, n_train,\n",
    "        replace=True,\n",
    "        p=list(np.asarray(sample_weights).flatten())\n",
    "    )"
   ]
  },
  {
   "cell_type": "code",
   "execution_count": 49,
   "metadata": {},
   "outputs": [
    {
     "name": "stdout",
     "output_type": "stream",
     "text": [
      "[732 455  38 ...,  18  74 575]\n"
     ]
    }
   ],
   "source": [
    "print(bt_sample_ind)"
   ]
  },
  {
   "cell_type": "code",
   "execution_count": 50,
   "metadata": {},
   "outputs": [],
   "source": [
    "Xbt = X_train[bt_sample_ind, :]"
   ]
  },
  {
   "cell_type": "code",
   "execution_count": 51,
   "metadata": {},
   "outputs": [
    {
     "name": "stdout",
     "output_type": "stream",
     "text": [
      "[[ 1.         -1.20860004  0.24741    -0.52640003 -0.57520002 -0.11008   ]\n",
      " [ 1.         -0.81528997 -1.14649999 -0.61369002 -0.51394999 -1.29359996]\n",
      " [ 1.          0.65976    -0.0056963  -0.61369002 -0.42089999  0.18568   ]\n",
      " ..., \n",
      " [ 1.          1.15139997  0.24741    -0.61369002 -0.22443999  0.60016   ]\n",
      " [ 1.          0.26640999 -0.15214001 -0.61369002 -0.55848998 -0.07547   ]\n",
      " [ 1.         -0.71696001  0.066621   -0.61369002 -0.52032    -0.13907   ]]\n"
     ]
    }
   ],
   "source": [
    "print(Xbt)"
   ]
  },
  {
   "cell_type": "code",
   "execution_count": 52,
   "metadata": {},
   "outputs": [
    {
     "name": "stdout",
     "output_type": "stream",
     "text": [
      "(1036, 6)\n"
     ]
    }
   ],
   "source": [
    "weights = Xbt"
   ]
  },
  {
   "cell_type": "code",
   "execution_count": 53,
   "metadata": {},
   "outputs": [
    {
     "name": "stdout",
     "output_type": "stream",
     "text": [
      "[[ 1.          2.48880005  0.26549     1.57369995  0.32357001  1.06649995]]\n"
     ]
    }
   ],
   "source": [
    "print(X_train[0])"
   ]
  },
  {
   "cell_type": "code",
   "execution_count": 68,
   "metadata": {},
   "outputs": [
    {
     "name": "stdout",
     "output_type": "stream",
     "text": [
      "0\n"
     ]
    }
   ],
   "source": [
    "n = np.random.choice(2, 1, replace=False, p = [1-sample_weights[0][0],sample_weights[0][0]])\n",
    "if n == 0:\n",
    "    print(\"0\")\n",
    "else:\n",
    "    print(\"1\")"
   ]
  },
  {
   "cell_type": "code",
   "execution_count": null,
   "metadata": {
    "collapsed": true
   },
   "outputs": [],
   "source": []
  }
 ],
 "metadata": {
  "kernelspec": {
   "display_name": "Python 3",
   "language": "python",
   "name": "python3"
  },
  "language_info": {
   "codemirror_mode": {
    "name": "ipython",
    "version": 3
   },
   "file_extension": ".py",
   "mimetype": "text/x-python",
   "name": "python",
   "nbconvert_exporter": "python",
   "pygments_lexer": "ipython3",
   "version": "3.6.1"
  }
 },
 "nbformat": 4,
 "nbformat_minor": 2
}
