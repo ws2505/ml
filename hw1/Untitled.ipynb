{
 "cells": [
  {
   "cell_type": "code",
   "execution_count": 8,
   "metadata": {
    "collapsed": true
   },
   "outputs": [],
   "source": [
    "from numpy import genfromtxt\n",
    "import numpy as np\n",
    "X_Train = genfromtxt('hw1-data/X_train.csv', delimiter=',')\n",
    "Y_Train = genfromtxt('hw1-data/Y_train.csv', delimiter=',')\n",
    "X_Test = genfromtxt('hw1-data/X_test.csv', delimiter=',')\n",
    "Y_Test = genfromtxt('hw1-data/Y_test.csv', delimiter=',')"
   ]
  },
  {
   "cell_type": "code",
   "execution_count": 9,
   "metadata": {},
   "outputs": [
    {
     "data": {
      "text/plain": [
       "350"
      ]
     },
     "execution_count": 9,
     "metadata": {},
     "output_type": "execute_result"
    }
   ],
   "source": [
    "X_Train.shape[0]\n",
    "#wrr = np.array([]).reshape(0,X_Train.shape[1])\n",
    "#wrr"
   ]
  },
  {
   "cell_type": "code",
   "execution_count": 10,
   "metadata": {
    "collapsed": true
   },
   "outputs": [],
   "source": [
    "import numpy as np\n",
    "from numpy.linalg import inv\n",
    "def compute_w_df(X_Tr,alpha):\n",
    "    wrr = np.array([]).reshape(0,X_Tr.shape[1])\n",
    "    df=[]\n",
    "    prod1=np.dot(X_Tr.T,X_Tr)\n",
    "    prod3=np.dot(X_Tr.T,Y_Train)\n",
    "    U, s, V = np.linalg.svd(X_Tr, full_matrices=True)\n",
    "    S = np.diag(s)\n",
    "    S_2=S*S\n",
    "    for lamda in range(0,alpha):\n",
    "        prod2=lamda*np.identity(X_Tr.shape[1])\n",
    "        sum1=np.add(prod2,prod1)\n",
    "        inv1=inv(sum1)\n",
    "        prod4=np.dot(inv1,prod3)\n",
    "        wrr = np.append(wrr,[prod4],axis=0)\n",
    "        d1=(S_2/(lamda+S_2))\n",
    "        d2=np.sum(d1)\n",
    "        df.append(d2)\n",
    "    df=np.array(df)\n",
    "    return df,wrr  "
   ]
  },
  {
   "cell_type": "code",
   "execution_count": 11,
   "metadata": {},
   "outputs": [
    {
     "name": "stderr",
     "output_type": "stream",
     "text": [
      "/Users/wenbo/anaconda/lib/python3.6/site-packages/ipykernel_launcher.py:17: RuntimeWarning: invalid value encountered in true_divide\n"
     ]
    }
   ],
   "source": [
    "(df1,wrr1)=compute_w_df(X_Train,5001)"
   ]
  },
  {
   "cell_type": "code",
   "execution_count": 12,
   "metadata": {},
   "outputs": [
    {
     "name": "stdout",
     "output_type": "stream",
     "text": [
      "[-0.45626139 -0.44572373 -0.44130977 ..., -0.32576685 -0.32571669\n",
      " -0.32566654]\n"
     ]
    }
   ],
   "source": [
    "print(wrr1[:,0])"
   ]
  },
  {
   "cell_type": "code",
   "execution_count": 13,
   "metadata": {},
   "outputs": [
    {
     "data": {
      "image/png": "[encoded data removed]",
      "text/plain": [
       "<matplotlib.figure.Figure at 0x10c380710>"
      ]
     },
     "metadata": {},
     "output_type": "display_data"
    }
   ],
   "source": [
    "%matplotlib inline\n",
    "import pandas as pd\n",
    "import matplotlib.pyplot as plt\n",
    "import numpy as np\n",
    "# plt.figure(figsize=(5001,7))\n",
    "# for i in range(0,7):\n",
    "plt.scatter(df1,wrr1[:,0],label=\"f1\",marker='o',color='r',s = 4)\n",
    "plt.scatter(df1,wrr1[:,1],label=\"f2\",marker='o',color='b',s = 4)\n",
    "plt.scatter(df1,wrr1[:,2],label=\"f3\",marker='o',color='g',s = 4)\n",
    "plt.scatter(df1,wrr1[:,3],label=\"f4\",marker='o',color='y',s = 4)\n",
    "plt.scatter(df1,wrr1[:,4],label=\"f5\",marker='o',color='c',s = 4)\n",
    "plt.scatter(df1,wrr1[:,5],label=\"f6\",marker='o',color='m',s = 4)\n",
    "plt.scatter(df1,wrr1[:,6],label=\"f7\",marker='o',color='coral',s = 4)\n",
    "# y label\n",
    "plt.ylabel('Wrr')\n",
    "# x label\n",
    "plt.xlabel('Degrees of freedom')\n",
    "# set the figure boundaries\n",
    "plt.xlim([0, 8.8])\n",
    "# and a legend\n",
    "plt.legend(loc='upper right')\n",
    "\n",
    "plt.show()"
   ]
  },
  {
   "cell_type": "code",
   "execution_count": 28,
   "metadata": {
    "collapsed": true
   },
   "outputs": [],
   "source": [
    "def rmse(a,X_Te,wrr1):\n",
    "    rmse = []\n",
    "    for i in range(0,a):\n",
    "        y=np.dot(X_Te,wrr1[i])\n",
    "        print(np.shape(y))\n",
    "        val=(Y_Test-y)*(Y_Test-y)\n",
    "        val2=np.sqrt(sum(val)/42.0)\n",
    "        rmse.append(val2)\n",
    "    rmse=np.array(rmse)\n",
    "    lam=np.arange(a)\n",
    "    return rmse,lam"
   ]
  },
  {
   "cell_type": "code",
   "execution_count": 29,
   "metadata": {},
   "outputs": [
    {
     "data": {
      "text/plain": [
       "array([ 0,  1,  2,  3,  4,  5,  6,  7,  8,  9, 10, 11, 12, 13, 14, 15, 16,\n",
       "       17, 18, 19, 20, 21, 22, 23, 24, 25, 26, 27, 28, 29, 30, 31, 32, 33,\n",
       "       34, 35, 36, 37, 38, 39, 40, 41, 42, 43, 44, 45, 46, 47, 48, 49, 50])"
      ]
     },
     "execution_count": 29,
     "metadata": {},
     "output_type": "execute_result"
    }
   ],
   "source": [
    "l1 = np.arange(51)\n",
    "l1"
   ]
  },
  {
   "cell_type": "code",
   "execution_count": 30,
   "metadata": {},
   "outputs": [
    {
     "name": "stdout",
     "output_type": "stream",
     "text": [
      "(42,)\n",
      "(42,)\n",
      "(42,)\n",
      "(42,)\n",
      "(42,)\n",
      "(42,)\n",
      "(42,)\n",
      "(42,)\n",
      "(42,)\n",
      "(42,)\n",
      "(42,)\n",
      "(42,)\n",
      "(42,)\n",
      "(42,)\n",
      "(42,)\n",
      "(42,)\n",
      "(42,)\n",
      "(42,)\n",
      "(42,)\n",
      "(42,)\n",
      "(42,)\n",
      "(42,)\n",
      "(42,)\n",
      "(42,)\n",
      "(42,)\n",
      "(42,)\n",
      "(42,)\n",
      "(42,)\n",
      "(42,)\n",
      "(42,)\n",
      "(42,)\n",
      "(42,)\n",
      "(42,)\n",
      "(42,)\n",
      "(42,)\n",
      "(42,)\n",
      "(42,)\n",
      "(42,)\n",
      "(42,)\n",
      "(42,)\n",
      "(42,)\n",
      "(42,)\n",
      "(42,)\n",
      "(42,)\n",
      "(42,)\n",
      "(42,)\n",
      "(42,)\n",
      "(42,)\n",
      "(42,)\n",
      "(42,)\n",
      "(42,)\n"
     ]
    }
   ],
   "source": [
    "r1,l1=rmse(51,X_Test,wrr1)"
   ]
  },
  {
   "cell_type": "code",
   "execution_count": 31,
   "metadata": {
    "collapsed": true
   },
   "outputs": [],
   "source": [
    "def poly2(Xmat):\n",
    "    X_tr=Xmat\n",
    "    np.shape(X_tr)\n",
    "    for i in range(0,6):\n",
    "        pr=np.square(X_tr[:,i])\n",
    "        X_tr=np.column_stack([X_tr,pr])\n",
    "    return X_tr"
   ]
  },
  {
   "cell_type": "code",
   "execution_count": 32,
   "metadata": {
    "collapsed": true
   },
   "outputs": [],
   "source": [
    "def poly3(Xmat):\n",
    "    X_tr=Xmat\n",
    "    np.shape(X_tr)\n",
    "    for i in range(0,6):\n",
    "        pr=np.power(X_tr[:,i],3)\n",
    "        X_tr=np.column_stack([X_tr,pr])\n",
    "    return X_tr"
   ]
  },
  {
   "cell_type": "code",
   "execution_count": 38,
   "metadata": {},
   "outputs": [
    {
     "data": {
      "text/plain": [
       "array([ 0.30957   , -0.36707   ,  0.45545   , -0.20083   , -0.73992   ,\n",
       "       -0.80885   ,  1.        ,  0.09583358,  0.13474038,  0.2074347 ,\n",
       "        0.04033269,  0.54748161,  0.65423832,  0.0296672 , -0.04945915,\n",
       "        0.09447614, -0.00810001, -0.40509259, -0.52918067])"
      ]
     },
     "execution_count": 38,
     "metadata": {},
     "output_type": "execute_result"
    }
   ],
   "source": [
    "X_tr2=poly2(X_Train)\n",
    "X_te2=poly2(X_Test)\n",
    "X_tr3=poly3(X_tr2)\n",
    "X_te3=poly3(X_te2)\n",
    "X_tr3[0]"
   ]
  },
  {
   "cell_type": "code",
   "execution_count": null,
   "metadata": {
    "collapsed": true
   },
   "outputs": [],
   "source": []
  }
 ],
 "metadata": {
  "kernelspec": {
   "display_name": "Python 3",
   "language": "python",
   "name": "python3"
  },
  "language_info": {
   "codemirror_mode": {
    "name": "ipython",
    "version": 3
   },
   "file_extension": ".py",
   "mimetype": "text/x-python",
   "name": "python",
   "nbconvert_exporter": "python",
   "pygments_lexer": "ipython3",
   "version": "3.6.1"
  }
 },
 "nbformat": 4,
 "nbformat_minor": 2
}
